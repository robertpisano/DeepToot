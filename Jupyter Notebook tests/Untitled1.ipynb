{
 "cells": [
  {
   "cell_type": "code",
   "execution_count": null,
   "metadata": {},
   "outputs": [],
   "source": [
    "nodes = BinaryReadList[\"interpolated_points.bin\", \n",
    "{\"Real32\",\"Real32\",\"Real32\"}];"
   ]
  },
  {
   "cell_type": "code",
   "execution_count": null,
   "metadata": {},
   "outputs": [],
   "source": [
    "nodes"
   ]
  }
 ],
 "metadata": {
  "kernelspec": {
   "display_name": "Wolfram Language 12.1",
   "language": "Wolfram Language",
   "name": "wolframlanguage12.1"
  }
 },
 "nbformat": 4,
 "nbformat_minor": 4
}
