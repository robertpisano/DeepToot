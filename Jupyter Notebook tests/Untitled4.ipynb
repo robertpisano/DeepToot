{
 "cells": [
  {
   "cell_type": "code",
   "execution_count": 1,
   "metadata": {},
   "outputs": [],
   "source": [
    "from gekko import brain\n",
    "import numpy as np\n",
    "import matplotlib.pyplot as plt"
   ]
  },
  {
   "cell_type": "code",
   "execution_count": 4,
   "metadata": {},
   "outputs": [
    {
     "name": "stdout",
     "output_type": "stream",
     "text": [
      "apm 67.243.14.146_gk_model1 <br><pre> ----------------------------------------------------------------\n",
      " APMonitor, Version 1.0.0\n",
      " APMonitor Optimization Suite\n",
      " ----------------------------------------------------------------\n",
      " \n",
      " \n",
      " --------- APM Model Size ------------\n",
      " Each time step contains\n",
      "   Objects      :            0\n",
      "   Constants    :            0\n",
      "   Variables    :          157\n",
      "   Intermediates:           46\n",
      "   Connections  :            0\n",
      "   Equations    :           47\n",
      "   Residuals    :            1\n",
      " \n",
      " Number of state variables:            161\n",
      " Number of total equations: -            6\n",
      " Number of slack variables: -            0\n",
      " ---------------------------------------\n",
      " Degrees of freedom       :            155\n",
      " \n",
      " **********************************************\n",
      " Model Parameter Estimation with Interior Point Solver\n",
      " **********************************************\n",
      "  \n",
      "  \n",
      " Info: Exact Hessian\n",
      "\n",
      "******************************************************************************\n",
      "This program contains Ipopt, a library for large-scale nonlinear optimization.\n",
      " Ipopt is released as open source code under the Eclipse Public License (EPL).\n",
      "         For more information visit http://projects.coin-or.org/Ipopt\n",
      "******************************************************************************\n",
      "\n",
      "This is Ipopt version 3.12.10, running with linear solver ma57.\n",
      "\n",
      "Number of nonzeros in equality constraint Jacobian...:      936\n",
      "Number of nonzeros in inequality constraint Jacobian.:        0\n",
      "Number of nonzeros in Lagrangian Hessian.............:        0\n",
      "\n",
      "Total number of variables............................:      161\n",
      "                     variables with only lower bounds:        0\n",
      "                variables with lower and upper bounds:        0\n",
      "                     variables with only upper bounds:        0\n",
      "Total number of equality constraints.................:        6\n",
      "Total number of inequality constraints...............:        0\n",
      "        inequality constraints with only lower bounds:        0\n",
      "   inequality constraints with lower and upper bounds:        0\n",
      "        inequality constraints with only upper bounds:        0\n",
      "\n",
      "iter    objective    inf_pr   inf_du lg(mu)  ||d||  lg(rg) alpha_du alpha_pr  ls\n",
      "   0  0.0000000e+00 4.88e+00 0.00e+00   0.0 0.00e+00    -  0.00e+00 0.00e+00   0\n",
      "   1  5.1556436e-02 2.66e-01 1.80e+00 -11.0 2.36e-01    -  1.00e+00 1.00e+00h  1\n",
      "   2  1.4652460e-01 4.19e-02 2.41e+00 -11.0 1.25e-01    -  1.00e+00 1.00e+00h  1\n",
      "   3  2.4362129e-02 2.71e-03 6.49e-01 -11.0 8.82e-02    -  1.00e+00 1.00e+00h  1\n",
      "   4  2.2805643e-01 4.48e-03 4.24e+00 -11.0 1.09e-01    -  1.00e+00 1.00e+00H  1\n",
      "   5  1.9750873e-02 4.81e-03 1.88e-02 -11.0 9.53e-02    -  1.00e+00 1.00e+00f  1\n",
      "   6  1.9741628e-02 2.42e-04 1.46e-02 -11.0 8.46e-04    -  1.00e+00 1.00e+00h  1\n",
      "   7  1.9734051e-02 1.67e-05 6.69e-03 -11.0 7.26e-04    -  1.00e+00 1.00e+00h  1\n",
      "   8  1.9731930e-02 4.06e-08 1.06e-03 -11.0 2.86e-04    -  1.00e+00 1.00e+00h  1\n",
      "   9  1.9731872e-02 1.39e-08 7.79e-05 -11.0 6.35e-05    -  1.00e+00 1.00e+00h  1\n",
      "\n",
      "Number of Iterations....: 9\n",
      "\n",
      "                                   (scaled)                 (unscaled)\n",
      "Objective...............:   1.9731871728898072e-02    1.9731871728898072e-02\n",
      "Dual infeasibility......:   7.7865546939336148e-05    7.7865546939336148e-05\n",
      "Constraint violation....:   1.3892258312470096e-08    1.3892258312470096e-08\n",
      "Complementarity.........:   0.0000000000000000e+00    0.0000000000000000e+00\n",
      "Overall NLP error.......:   7.7865546939336148e-05    7.7865546939336148e-05\n",
      "\n",
      "\n",
      "Number of objective function evaluations             = 12\n",
      "Number of objective gradient evaluations             = 10\n",
      "Number of equality constraint evaluations            = 12\n",
      "Number of inequality constraint evaluations          = 0\n",
      "Number of equality constraint Jacobian evaluations   = 10\n",
      "Number of inequality constraint Jacobian evaluations = 0\n",
      "Number of Lagrangian Hessian evaluations             = 0\n",
      "Total CPU secs in IPOPT (w/o function evaluations)   =      0.016\n",
      "Total CPU secs in NLP function evaluations           =      0.051\n",
      "\n",
      "EXIT: Optimal Solution Found.\n",
      " \n",
      " The solution was found.\n",
      " \n",
      " The final value of the objective function is   1.973187172889807E-002\n",
      " \n",
      " ---------------------------------------------------\n",
      " Solver         :  IPOPT (v3.12)\n",
      " Solution time  :   0.161699999996927      sec\n",
      " Objective      :   1.973187172889807E-002\n",
      " Successful solution\n",
      " ---------------------------------------------------\n",
      " \n"
     ]
    }
   ],
   "source": [
    "x_m = (0.0,24.0,72.0,96.0,120.0,144.0)\n",
    "y_m = (0.023027367,0.02636238,0.024316255,\\\n",
    "       0.001705467,-0.004823068,-0.016863735)\n",
    "\n",
    "x = np.array(x_m)\n",
    "y = np.array(y_m)\n",
    "\n",
    "b = brain.Brain()\n",
    "b.input_layer(1)\n",
    "b.layer(linear=2)\n",
    "b.layer(tanh=2)\n",
    "b.layer(linear=2)\n",
    "b.output_layer(1)\n",
    "\n",
    "b.learn(x,y) # train\n",
    "xp = np.linspace(0,144,50) \n",
    "yp = b.think(xp) # validate\n",
    "\n"
   ]
  },
  {
   "cell_type": "code",
   "execution_count": 5,
   "metadata": {},
   "outputs": [
    {
     "data": {
      "image/png": "[encoded data removed]",
      "text/plain": [
       "<Figure size 432x288 with 1 Axes>"
      ]
     },
     "metadata": {
      "needs_background": "light"
     },
     "output_type": "display_data"
    }
   ],
   "source": [
    "plt.figure()\n",
    "plt.plot(x,y,'bo')\n",
    "plt.plot(xp,yp[0],'r-')\n",
    "plt.show()"
   ]
  },
  {
   "cell_type": "code",
   "execution_count": null,
   "metadata": {},
   "outputs": [],
   "source": []
  }
 ],
 "metadata": {
  "kernelspec": {
   "display_name": "Python 3",
   "language": "python",
   "name": "python3"
  },
  "language_info": {
   "codemirror_mode": {
    "name": "ipython",
    "version": 3
   },
   "file_extension": ".py",
   "mimetype": "text/x-python",
   "name": "python",
   "nbconvert_exporter": "python",
   "pygments_lexer": "ipython3",
   "version": "3.7.5"
  }
 },
 "nbformat": 4,
 "nbformat_minor": 4
}
