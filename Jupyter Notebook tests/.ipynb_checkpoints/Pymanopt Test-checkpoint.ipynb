{
 "cells": [
  {
   "cell_type": "code",
   "execution_count": null,
   "metadata": {
    "scrolled": true
   },
   "outputs": [],
   "source": [
    "import sys\n",
    "sys.path.append('D:\\Documents\\pymanopt\\examples')\n",
    "# sys.path.append('D:\\Documents\\pymanopt\\pymanopt')\n",
    "sys.path"
   ]
  },
  {
   "cell_type": "code",
   "execution_count": null,
   "metadata": {},
   "outputs": [],
   "source": [
    "import os\n",
    "\n",
    "import autograd.numpy as np\n",
    "import tensorflow as tf\n",
    "# import theano.tensor as T\n",
    "# import torch\n",
    "\n",
    "from examples._tools import ExampleRunner\n",
    "\n",
    "import pymanopt\n",
    "\n",
    "from pymanopt.manifolds import SpecialOrthogonalGroup\n",
    "from pymanopt.solvers import SteepestDescent\n",
    "\n",
    "\n",
    "os.environ[\"TF_CPP_MIN_LOG_LEVEL\"] = \"2\"\n",
    "\n",
    "\n",
    "SUPPORTED_BACKENDS = (\n",
    "    \"Autograd\", \"Callable\", \"PyTorch\", \"TensorFlow\", \"Theano\"\n",
    ")\n",
    "\n",
    "\n",
    "def create_cost_egrad(backend, ABt):\n",
    "    egrad = None\n",
    "\n",
    "    if backend == \"Autograd\":\n",
    "        @pymanopt.function.Autograd\n",
    "        def cost(X):\n",
    "            return -np.tensordot(X, ABt, axes=X.ndim)\n",
    "    elif backend == \"Callable\":\n",
    "        @pymanopt.function.Callable\n",
    "        def cost(X):\n",
    "            return -np.tensordot(X, ABt, axes=X.ndim)\n",
    "\n",
    "        @pymanopt.function.Callable\n",
    "        def egrad(X):\n",
    "            return -ABt\n",
    "    elif backend == \"PyTorch\":\n",
    "        ABt_ = torch.from_numpy(ABt)\n",
    "\n",
    "        @pymanopt.function.PyTorch\n",
    "        def cost(X):\n",
    "            return -torch.tensordot(X, ABt_, dims=X.dim())\n",
    "    elif backend == \"TensorFlow\":\n",
    "        X = tf.Variable(tf.zeros(ABt.shape, dtype=np.float64), name=\"X\")\n",
    "\n",
    "        @pymanopt.function.TensorFlow(X)\n",
    "        def cost(X):\n",
    "            return -tf.tensordot(X, ABt, axes=ABt.ndim)\n",
    "    elif backend == \"Theano\":\n",
    "        X = T.tensor3()\n",
    "\n",
    "        @pymanopt.function.Theano(X)\n",
    "        def cost(X):\n",
    "            return -T.tensordot(X, ABt, axes=ABt.ndim)\n",
    "    else:\n",
    "        raise ValueError(\"Unsupported backend '{:s}'\".format(backend))\n",
    "\n",
    "    return cost, egrad\n",
    "\n",
    "\n",
    "def compute_optimal_solution(ABt):\n",
    "    n = ABt[0].shape[0]\n",
    "    U, S, Vt = np.linalg.svd(ABt)\n",
    "    UVt = U @ Vt\n",
    "    if abs(1.0 - np.linalg.det(UVt)) < 1e-10:\n",
    "        return UVt\n",
    "    # UVt is in O(n) but not SO(n), which is easily corrected.\n",
    "    J = np.append(np.ones(n - 1), -1)\n",
    "    return (U * J) @ Vt\n",
    "\n",
    "\n",
    "def run(backend=SUPPORTED_BACKENDS[0], quiet=True):\n",
    "    n = 3\n",
    "    m = 10\n",
    "    k = 10\n",
    "\n",
    "    A = np.random.randn(k, n, m)\n",
    "    B = np.random.randn(k, n, m)\n",
    "    ABt = np.array([Ak @ Bk.T for Ak, Bk in zip(A, B)])\n",
    "\n",
    "    cost, egrad = create_cost_egrad(backend, ABt)\n",
    "    manifold = SpecialOrthogonalGroup(n, k)\n",
    "    problem = pymanopt.Problem(manifold, cost, egrad=egrad)\n",
    "    if quiet:\n",
    "        problem.verbosity = 0\n",
    "\n",
    "    solver = SteepestDescent()\n",
    "    X = solver.solve(problem)\n",
    "\n",
    "    if not quiet:\n",
    "        Xopt = np.array([compute_optimal_solution(ABtk) for ABtk in ABt])\n",
    "        print(\"Frobenius norm error:\", np.linalg.norm(Xopt - X))\n",
    "\n",
    "\n",
    "if __name__ == \"__main__\":\n",
    "    runner = ExampleRunner(run, \"Optimal rotations example\",\n",
    "                           SUPPORTED_BACKENDS)\n",
    "    runner.run()"
   ]
  },
  {
   "cell_type": "code",
   "execution_count": null,
   "metadata": {},
   "outputs": [],
   "source": [
    "import pymanopt\n",
    "pymanopt.__file__"
   ]
  },
  {
   "cell_type": "code",
   "execution_count": null,
   "metadata": {},
   "outputs": [],
   "source": [
    "!pip uninstall pymanopt"
   ]
  },
  {
   "cell_type": "code",
   "execution_count": null,
   "metadata": {},
   "outputs": [],
   "source": [
    "!|python -m pip install --upgrade setuptools"
   ]
  },
  {
   "cell_type": "code",
   "execution_count": 2,
   "metadata": {},
   "outputs": [
    {
     "data": {
      "text/plain": [
       "<module 'pymanopt' from 'd:\\\\program files\\\\python37\\\\lib\\\\site-packages\\\\pymanopt\\\\__init__.py'>"
      ]
     },
     "execution_count": 2,
     "metadata": {},
     "output_type": "execute_result"
    }
   ],
   "source": [
    "import pymanopt\n",
    "pymanopt"
   ]
  },
  {
   "cell_type": "code",
   "execution_count": 12,
   "metadata": {},
   "outputs": [
    {
     "name": "stdout",
     "output_type": "stream",
     "text": [
      "[WinError 2] The system cannot find the file specified: \"'Documents'\"\n",
      "D:\\\n",
      " Volume in drive D is MainPartition\n",
      " Volume Serial Number is 52D4-B55B\n",
      "\n",
      " Directory of D:\\\n",
      "\n",
      "08/24/2020  03:58 PM    <DIR>          anaconda\n",
      "12/22/2020  01:59 PM    <DIR>          Desktop\n",
      "12/29/2020  11:06 PM    <DIR>          Documents\n",
      "08/16/2020  06:16 PM    <DIR>          DownloadedDrivers\n",
      "12/29/2020  06:22 PM    <DIR>          Downloads\n",
      "12/01/2020  12:49 PM    <DIR>          easyeda-data\n",
      "11/30/2019  06:59 PM    <DIR>          FFF profiles\n",
      "07/01/2020  07:08 PM    <DIR>          keras_model\n",
      "12/12/2020  05:43 PM    <DIR>          Music\n",
      "08/16/2020  06:20 PM    <DIR>          NVIDIA\n",
      "12/12/2020  05:43 PM    <DIR>          Pictures\n",
      "12/25/2020  08:04 PM    <DIR>          Program Files\n",
      "12/25/2020  08:17 PM    <DIR>          Program Files (x86)\n",
      "12/25/2020  08:16 PM    <DIR>          Program Installation Groups\n",
      "08/30/2020  01:53 PM    <DIR>          QT_Designer\n",
      "               0 File(s)              0 bytes\n",
      "              15 Dir(s)  106,227,650,560 bytes free\n"
     ]
    }
   ],
   "source": [
    "%cd 'Documents'\n",
    "!dir"
   ]
  },
  {
   "cell_type": "code",
   "execution_count": null,
   "metadata": {},
   "outputs": [],
   "source": []
  }
 ],
 "metadata": {
  "kernelspec": {
   "display_name": "Python 3",
   "language": "python",
   "name": "python3"
  },
  "language_info": {
   "codemirror_mode": {
    "name": "ipython",
    "version": 3
   },
   "file_extension": ".py",
   "mimetype": "text/x-python",
   "name": "python",
   "nbconvert_exporter": "python",
   "pygments_lexer": "ipython3",
   "version": "3.7.5"
  }
 },
 "nbformat": 4,
 "nbformat_minor": 4
}
