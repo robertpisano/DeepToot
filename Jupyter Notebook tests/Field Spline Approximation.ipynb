{
 "cells": [
  {
   "cell_type": "code",
   "execution_count": null,
   "metadata": {},
   "outputs": [],
   "source": [
    "nodes = BinaryReadList[\"D:/Documents/RLUtilities/assets/soccar/soccar_navigation_nodes.bin\", \n",
    "{\"Real32\",\"Real32\",\"Real32\"}];\n"
   ]
  },
  {
   "cell_type": "code",
   "execution_count": null,
   "metadata": {},
   "outputs": [],
   "source": [
    "normals = BinaryReadList[\"D:/Documents/RLUtilities/assets/soccar/soccar_navigation_normals.bin\", \n",
    "{\"Real32\",\"Real32\",\"Real32\"}];\n"
   ]
  },
  {
   "cell_type": "code",
   "execution_count": null,
   "metadata": {},
   "outputs": [],
   "source": [
    "points = Point /@ nodes;\n",
    "norms = Points /@ nodes;"
   ]
  },
  {
   "cell_type": "code",
   "execution_count": null,
   "metadata": {},
   "outputs": [],
   "source": [
    "pts = nodes;"
   ]
  },
  {
   "cell_type": "code",
   "execution_count": null,
   "metadata": {},
   "outputs": [],
   "source": [
    "graph = Graphics3D[{BSplineCurve[pts]}]\n"
   ]
  },
  {
   "cell_type": "code",
   "execution_count": null,
   "metadata": {},
   "outputs": [],
   "source": [
    "f = SplineFit[nodes, Beizer];"
   ]
  },
  {
   "cell_type": "code",
   "execution_count": null,
   "metadata": {},
   "outputs": [],
   "source": [
    "ParametricPlot[Evaluate[Through[{f}[t]]],{t,0,1}]"
   ]
  },
  {
   "cell_type": "code",
   "execution_count": null,
   "metadata": {},
   "outputs": [],
   "source": [
    "p = {{0, 0}, {1, 1}, {2, -1}, {3, 0}, {5, -2}, {4, 1}};"
   ]
  },
  {
   "cell_type": "code",
   "execution_count": null,
   "metadata": {},
   "outputs": [],
   "source": [
    "Graphics[{BSplineCurve[p], Green, Line[p], Red, Point[p]}]"
   ]
  },
  {
   "cell_type": "code",
   "execution_count": 3,
   "metadata": {},
   "outputs": [
    {
     "ename": "No valid installations for system `1` were found with the options specified.",
     "evalue": "No valid installations for system Python were found with the options specified.",
     "output_type": "error",
     "traceback": [
      "\u001b[0;31mNo valid installations for system `1` were found with the options specified.: No valid installations for system Python were found with the options specified.\u001b[0m"
     ]
    },
    {
     "data": {
      "text/html": [
       "<div><img alt=\"Output\" src=\"data:image/png;base64,iVBORw0KGgoAAAANSUhEUgAAADEAAAAPCAIAAADCjrCWAAAAq3pUWHRSYXcgcHJvZmlsZSB0eXBlIGV4aWYAAHjaVU/bDQMhDPtnio6QFw6MQ3sgdYOOX3N3qlQriR0riaDMz3uVx4ZaK1GzoQNCRI9ug6LJBWeoqBg5bst+fPp6++U6IWKjNdmmXv16rhP3SQlPQ4VmsIZJJjp1o2JFLSY1sfACOKg4TOJFnsjkGhLVxMde3LCZ/9MTzv7gi9xczhyu5MEEV9U7tZO3wy+ULz27O0qXXfW1AAAACXBIWXMAAAsTAAALEwEAmpwYAAAAPHRFWHRTb2Z0d2FyZQBDcmVhdGVkIHdpdGggdGhlIFdvbGZyYW0gTGFuZ3VhZ2UgOiB3d3cud29sZnJhbS5jb21coqaFAAAAIXRFWHRDcmVhdGlvbiBUaW1lADIwMjA6MTI6MjYgMTk6MzE6MjK3KOxoAAABU0lEQVRIic1Wu5GDMBBdMVcKOPBcBaICiNzBZSKE5KogEaEp4SInJyowFTAOkHpZBxIS4nM2BGe/CC2rt7tv3zAQRIQ3Q/DqBhbw5j01WVypnTSqignJmjEZ0RgHnyDJGtOTJkjrtogshyXdyqyRnBFRcrrxGgAAfICq4rTjEg8luZzwnLh3THjHvxDmV8z31F+C3t3nIVR9R4/Rg+yxeFa6DWtSVTxX3gajotURRBRMPzKBDkMQAAAol+hDcurlT89LQcHcSTBDKpgtPKQHYHYvGNSpP6yju+bhRBM70/NQfadLaPMawktN+bfvkMBdYAJRsDpdX0GTpZ1RbId95a319LaDThG4C2aUdVepvrPdldt1Sk6sLcrJwNGRtj+/CgBU9WX95BnHW/jMHy6Xcj68nyrGxFrQD9Op4kyYmmDdOO/gVTC7kzd4+CH4NxB8v/+CO1zPxljaIKeTAAAAAElFTkSuQmCC\"></div>"
      ],
      "text/plain": [
       "$Failed"
      ]
     },
     "execution_count": 3,
     "metadata": {
      "text/html": [],
      "text/plain": []
     },
     "output_type": "execute_result"
    }
   ],
   "source": [
    "session = \n",
    " StartExternalSession[<|\"System\" -> \"Python\", \"Version\" -> \"3\", \n",
    "   \"ReturnType\" -> \"String\"|>]"
   ]
  },
  {
   "cell_type": "code",
   "execution_count": null,
   "metadata": {},
   "outputs": [],
   "source": [
    "x = nodes[[;;,1]];\n",
    "y = nodes[[;;,2]];\n",
    "z = nodes[[;;,3]];\n",
    "Export['data_x.csv', x, \"CSV\"]"
   ]
  },
  {
   "cell_type": "code",
   "execution_count": null,
   "metadata": {},
   "outputs": [],
   "source": [
    "sp = SortBy[nodes, Last];"
   ]
  },
  {
   "cell_type": "code",
   "execution_count": null,
   "metadata": {},
   "outputs": [],
   "source": [
    "x = Ordering[nodes[[;;,1]], Less];\n",
    "y = Sort[nodes[[;;,2]], Less];\n",
    "z = Sort[nodes[[;;,3]], Less];\\"
   ]
  },
  {
   "cell_type": "code",
   "execution_count": null,
   "metadata": {},
   "outputs": [],
   "source": [
    "g[i_] := x[[i+1]]-x[[i]]"
   ]
  },
  {
   "cell_type": "code",
   "execution_count": null,
   "metadata": {},
   "outputs": [],
   "source": [
    "Do[If[g[i] >= 0, Print[0],Print[False]],\n",
    "{i,1,Length[x]-1,100}\n",
    "]\n",
    "\n"
   ]
  },
  {
   "cell_type": "code",
   "execution_count": null,
   "metadata": {},
   "outputs": [],
   "source": [
    "g[0]"
   ]
  },
  {
   "cell_type": "code",
   "execution_count": null,
   "metadata": {},
   "outputs": [],
   "source": [
    "x[[1]]"
   ]
  },
  {
   "cell_type": "code",
   "execution_count": null,
   "metadata": {},
   "outputs": [],
   "source": []
  }
 ],
 "metadata": {
  "kernelspec": {
   "display_name": "Wolfram Language 12.1",
   "language": "Wolfram Language",
   "name": "wolframlanguage12.1"
  },
  "language_info": {
   "codemirror_mode": "mathematica",
   "file_extension": ".m",
   "mimetype": "application/vnd.wolfram.m",
   "name": "Wolfram Language",
   "pygments_lexer": "mathematica",
   "version": "12.0"
  }
 },
 "nbformat": 4,
 "nbformat_minor": 4
}
