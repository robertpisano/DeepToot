{
 "cells": [
  {
   "cell_type": "code",
   "execution_count": 1,
   "metadata": {
    "scrolled": true
   },
   "outputs": [],
   "source": [
    "# import sys\n",
    "# sys.path.append('D:\\Documents\\pymanopt\\examples')\n",
    "# # sys.path.append('D:\\Documents\\pymanopt\\pymanopt')\n",
    "# sys.path"
   ]
  },
  {
   "cell_type": "code",
   "execution_count": 5,
   "metadata": {},
   "outputs": [
    {
     "name": "stdout",
     "output_type": "stream",
     "text": [
      "D:\\Program Files\\Python37\\Lib\\site-packages\\pymanopt\\examples\n"
     ]
    }
   ],
   "source": [
    "%cd D:\\Program Files\\Python37\\Lib\\site-packages\\pymanopt\\examples"
   ]
  },
  {
   "cell_type": "code",
   "execution_count": null,
   "metadata": {},
   "outputs": [],
   "source": []
  },
  {
   "cell_type": "code",
   "execution_count": 27,
   "metadata": {},
   "outputs": [
    {
     "name": "stdout",
     "output_type": "stream",
     "text": [
      "Overwriting optimal_rotations.py\n"
     ]
    }
   ],
   "source": [
    "%%writefile optimal_rotations.py\n",
    "# %load optimal_rotations.py\n",
    "\n",
    "import os\n",
    "\n",
    "import autograd.numpy as np\n",
    "# import tensorflow as tf\n",
    "# import theano.tensor as T\n",
    "# import torch\n",
    "from pymanopt.examples._tools import ExampleRunner\n",
    "\n",
    "import pymanopt\n",
    "from pymanopt.manifolds import SpecialOrthogonalGroup\n",
    "from pymanopt.solvers import SteepestDescent\n",
    "\n",
    "\n",
    "os.environ[\"TF_CPP_MIN_LOG_LEVEL\"] = \"2\"\n",
    "\n",
    "\n",
    "SUPPORTED_BACKENDS = (\n",
    "    \"Autograd\", \"Callable\", \"PyTorch\", \"TensorFlow\", \"Theano\"\n",
    ")\n",
    "\n",
    "\n",
    "def create_cost_egrad(backend, ABt):\n",
    "    egrad = None\n",
    "\n",
    "    if backend == \"Autograd\":\n",
    "        @pymanopt.function.Autograd\n",
    "        def cost(X):\n",
    "            return -np.tensordot(X, ABt, axes=X.ndim)\n",
    "    elif backend == \"Callable\":\n",
    "        @pymanopt.function.Callable\n",
    "        def cost(X):\n",
    "            return -np.tensordot(X, ABt, axes=X.ndim)\n",
    "\n",
    "        @pymanopt.function.Callable\n",
    "        def egrad(X):\n",
    "            return -ABt\n",
    "    elif backend == \"PyTorch\":\n",
    "        ABt_ = torch.from_numpy(ABt)\n",
    "\n",
    "        @pymanopt.function.PyTorch\n",
    "        def cost(X):\n",
    "            return -torch.tensordot(X, ABt_, dims=X.dim())\n",
    "    elif backend == \"TensorFlow\":\n",
    "        X = tf.Variable(tf.zeros(ABt.shape, dtype=np.float64), name=\"X\")\n",
    "\n",
    "        @pymanopt.function.TensorFlow(X)\n",
    "        def cost(X):\n",
    "            return -tf.tensordot(X, ABt, axes=ABt.ndim)\n",
    "    elif backend == \"Theano\":\n",
    "        X = T.tensor3()\n",
    "\n",
    "        @pymanopt.function.Theano(X)\n",
    "        def cost(X):\n",
    "            return -T.tensordot(X, ABt, axes=ABt.ndim)\n",
    "    else:\n",
    "        raise ValueError(\"Unsupported backend '{:s}'\".format(backend))\n",
    "\n",
    "    return cost, egrad\n",
    "\n",
    "\n",
    "def compute_optimal_solution(ABt):\n",
    "    n = ABt[0].shape[0]\n",
    "    U, S, Vt = np.linalg.svd(ABt)\n",
    "    UVt = U @ Vt\n",
    "    if abs(1.0 - np.linalg.det(UVt)) < 1e-10:\n",
    "        return UVt\n",
    "    # UVt is in O(n) but not SO(n), which is easily corrected.\n",
    "    J = np.append(np.ones(n - 1), -1)\n",
    "    return (U * J) @ Vt\n",
    "\n",
    "\n",
    "def run(backend=SUPPORTED_BACKENDS[0], quiet=False):\n",
    "    n = 2\n",
    "    m = 2\n",
    "    k = 2\n",
    "    np.random.seed(1)\n",
    "    A = np.random.randn(k, n, m)\n",
    "    B = np.random.randn(k, n, m)\n",
    "    ABt = np.array([Ak @ Bk.T for Ak, Bk in zip(A, B)])\n",
    "\n",
    "    cost, egrad = create_cost_egrad(backend, ABt)\n",
    "    manifold = SpecialOrthogonalGroup(n, k)\n",
    "    problem = pymanopt.Problem(manifold, cost, egrad=egrad)\n",
    "    if quiet:\n",
    "        problem.verbosity = 0\n",
    "\n",
    "    solver = SteepestDescent()\n",
    "    X = solver.solve(problem)\n",
    "\n",
    "    if not quiet:\n",
    "        Xopt = np.array([compute_optimal_solution(ABtk) for ABtk in ABt])\n",
    "        print('X: ', X)\n",
    "        print('Xopt: ', Xopt)\n",
    "        print('A: ', \n",
    "              \n",
    "              A)\n",
    "        print('B:', B)\n",
    "        print(\"Frobenius norm error:\", np.linalg.norm(Xopt - X))\n",
    "\n",
    "\n",
    "if __name__ == \"__main__\":\n",
    "    runner = ExampleRunner(run, \"Optimal rotations example\",\n",
    "                           SUPPORTED_BACKENDS)\n",
    "    runner.run()\n",
    "\n"
   ]
  },
  {
   "cell_type": "code",
   "execution_count": 28,
   "metadata": {},
   "outputs": [
    {
     "name": "stdout",
     "output_type": "stream",
     "text": [
      "Optimal rotations example\n",
      "-------------------------\n",
      "Using 'Autograd' backend\n",
      "\n",
      " iter\t\t   cost val\t    grad. norm\n",
      "    1\t+2.0153790075771283e-01\t0.00000000e+00\n",
      "Terminated - min grad norm reached after 1 iterations, 0.04 seconds.\n",
      "\n",
      "X:  [[[nan]]\n",
      "\n",
      " [[nan]]]\n",
      "Xopt:  [[[1.]]\n",
      "\n",
      " [[1.]]]\n",
      "A:  [[[ 1.62434536]]\n",
      "\n",
      " [[-0.61175641]]]\n",
      "B: [[[-0.52817175]]\n",
      "\n",
      " [[-1.07296862]]]\n",
      "Frobenius norm error: nan\n"
     ]
    },
    {
     "name": "stderr",
     "output_type": "stream",
     "text": [
      "d:\\program files\\python37\\lib\\site-packages\\pymanopt\\solvers\\linesearch.py:46: RuntimeWarning: divide by zero encountered in double_scalars\n",
      "  alpha = self.initial_stepsize / norm_d\n",
      "d:\\program files\\python37\\lib\\site-packages\\pymanopt\\solvers\\linesearch.py:50: RuntimeWarning: invalid value encountered in multiply\n",
      "  newx = manifold.retr(x, alpha * d)\n",
      "d:\\program files\\python37\\lib\\site-packages\\pymanopt\\solvers\\linesearch.py:55: RuntimeWarning: invalid value encountered in double_scalars\n",
      "  while (newf > f0 + self.suff_decr * alpha * df0 and\n",
      "d:\\program files\\python37\\lib\\site-packages\\pymanopt\\solvers\\linesearch.py:72: RuntimeWarning: invalid value encountered in double_scalars\n",
      "  stepsize = alpha * norm_d\n"
     ]
    }
   ],
   "source": [
    "%run optimal_rotations.py"
   ]
  },
  {
   "cell_type": "code",
   "execution_count": null,
   "metadata": {},
   "outputs": [],
   "source": []
  }
 ],
 "metadata": {
  "kernelspec": {
   "display_name": "Python 3",
   "language": "python",
   "name": "python3"
  },
  "language_info": {
   "codemirror_mode": {
    "name": "ipython",
    "version": 3
   },
   "file_extension": ".py",
   "mimetype": "text/x-python",
   "name": "python",
   "nbconvert_exporter": "python",
   "pygments_lexer": "ipython3",
   "version": "3.7.5"
  }
 },
 "nbformat": 4,
 "nbformat_minor": 4
}
